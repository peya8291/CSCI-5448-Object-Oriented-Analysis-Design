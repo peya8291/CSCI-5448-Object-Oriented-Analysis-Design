{
 "cells": [
  {
   "cell_type": "code",
   "execution_count": 9,
   "metadata": {},
   "outputs": [],
   "source": [
    "'''\n",
    "OO HW1\n",
    "mollyz\n",
    "'''\n",
    "import numpy as np\n",
    "\n",
    "class Circle(object):\n",
    "    def __init__(self, z):  # private function, initialization\n",
    "        self.z = z  # create a local variable z\n",
    "    def display(self):  # self: recognation in a same class + create a self virtualized space included in class\n",
    "        print(\"A circle with z value: %s\" % self.z)\n",
    "\n",
    "class Square(object):\n",
    "    def __init__(self, z):\n",
    "        self.z = z\n",
    "    def display(self):\n",
    "        print(\"A square with z value: %s\" % self.z)\n",
    "        \n",
    "class Triangle(object):\n",
    "    def __init__(self,z):\n",
    "        self.z = z\n",
    "    def display(self):\n",
    "        print (\"A triangle with z value : %s\" %self.z)        "
   ]
  },
  {
   "cell_type": "code",
   "execution_count": 3,
   "metadata": {},
   "outputs": [],
   "source": [
    "class shapeProducer(object):\n",
    "    def __init__(self,dataBaseSize):\n",
    "        self.dataBaseSize = dataBaseSize\n",
    "        self.shapeList = []\n",
    "        \n",
    "    def generateResults(self):\n",
    "        for i in range(self.dataBaseSize):\n",
    "            if np.random.randint (3) == 0:\n",
    "                self.shapeList.append(Circle(np.random.random()))\n",
    "            elif np.random.randint (3) == 1:\n",
    "                self.shapeList.append(Square(np.random.random()))\n",
    "            else:\n",
    "                self.shapeList.append(Triangle(np.random.random()))\n",
    "    \n",
    "    def sorter(self):\n",
    "        if self.dataBaseSize <= 1:\n",
    "            return\n",
    "        for i in range(self.dataBaseSize -1,0,-1): # start from n-1 to 0, every next -1\n",
    "            for j in range (i):\n",
    "                if self.shapeList[j].z > self.shapeList[j+1].z:\n",
    "                    temp = self.shapeList[j]\n",
    "                    self.shapeList[j] = self.shapeList [j+1]\n",
    "                    self.shapeList[j+1] = temp"
   ]
  },
  {
   "cell_type": "code",
   "execution_count": 7,
   "metadata": {},
   "outputs": [
    {
     "name": "stdout",
     "output_type": "stream",
     "text": [
      "There are necessary info here: \n",
      "\n",
      "A triangle with z value : 0.058848177592405015\n",
      "A circle with z value: 0.13134405685970407\n",
      "A triangle with z value : 0.1656672913408478\n",
      "A circle with z value: 0.38424917776950607\n",
      "A triangle with z value : 0.4089270447740143\n",
      "A triangle with z value : 0.4322781678493155\n",
      "A square with z value: 0.49551175159728833\n",
      "A triangle with z value : 0.7515150339237946\n",
      "A circle with z value: 0.7598660760589527\n",
      "A triangle with z value : 0.9683149810942541\n"
     ]
    }
   ],
   "source": [
    "if __name__ == \"__main__\":\n",
    "    instance = shapeProducer(10) # state and initialization\n",
    "    instance.generateResults()\n",
    "    instance.sorter()\n",
    "    print (\"There are necessary info here: \\n\")\n",
    "    \n",
    "    for each_item in instance.shapeList:\n",
    "        each_item.display()"
   ]
  }
 ],
 "metadata": {
  "kernelspec": {
   "display_name": "Python 3",
   "language": "python",
   "name": "python3"
  },
  "language_info": {
   "codemirror_mode": {
    "name": "ipython",
    "version": 3
   },
   "file_extension": ".py",
   "mimetype": "text/x-python",
   "name": "python",
   "nbconvert_exporter": "python",
   "pygments_lexer": "ipython3",
   "version": "3.6.5"
  }
 },
 "nbformat": 4,
 "nbformat_minor": 2
}
