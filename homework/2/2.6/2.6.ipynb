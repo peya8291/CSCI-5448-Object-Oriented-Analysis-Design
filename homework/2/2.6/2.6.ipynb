{
 "cells": [
  {
   "cell_type": "code",
   "execution_count": 1,
   "metadata": {},
   "outputs": [],
   "source": [
    "from typing import List\n",
    "import random\n"
   ]
  },
  {
   "cell_type": "code",
   "execution_count": 2,
   "metadata": {},
   "outputs": [],
   "source": [
    "class AbstractShape(object):\n",
    "    def __init__(self, z):\n",
    "        # set the z coordinate of the shape\n",
    "        self.z = z\n",
    "\n",
    "    def display(self):\n",
    "        # the method to display itself\n",
    "        raise NotImplementedError(\n",
    "            'should have implemented the display function!')\n",
    "        "
   ]
  },
  {
   "cell_type": "code",
   "execution_count": 3,
   "metadata": {},
   "outputs": [],
   "source": [
    "class Circle(AbstractShape):\n",
    "    def __init__(self, z):\n",
    "        super().__init__(z)\n",
    "\n",
    "    def display(self):\n",
    "        print('I am a circle with z-value: {}'.format(self.z))\n",
    "\n",
    "\n",
    "class Square(AbstractShape):\n",
    "    def __init__(self, z):\n",
    "        super().__init__(z)\n",
    "\n",
    "    def display(self):\n",
    "        print('I am a square with z-value: {}'.format(self.z))\n",
    "\n",
    "\n",
    "class Triangle(AbstractShape):\n",
    "    def __init__(self, z):\n",
    "        super().__init__(z)\n",
    "\n",
    "    def display(self):\n",
    "        print('I am a triangle with z-value: {}'.format(self.z))\n",
    "        "
   ]
  },
  {
   "cell_type": "code",
   "execution_count": 4,
   "metadata": {},
   "outputs": [],
   "source": [
    "class AbstractSortShape(object):\n",
    "    def sort_shape(self, shape_list):\n",
    "        # sort the list of shapes\n",
    "        raise NotImplementedError('should have implemented the sort function')\n",
    "        "
   ]
  },
  {
   "cell_type": "code",
   "execution_count": 5,
   "metadata": {},
   "outputs": [],
   "source": [
    "class SortShapeZOrder(AbstractSortShape):\n",
    "    def sort_shape(self, shape_list: List[AbstractShape]):\n",
    "        # sort the list of shapes by z coordinate in the ascending order\n",
    "        shape_list.sort(key=lambda AbstractShape: AbstractShape.z)\n",
    "        "
   ]
  },
  {
   "cell_type": "code",
   "execution_count": 6,
   "metadata": {},
   "outputs": [],
   "source": [
    "def run(database_size):\n",
    "    '''\n",
    "    database_size is the size of the virtual \"database\"\n",
    "    an random integer is used as indicator for the type of shape, 1:circle 2:square 3:triangle\n",
    "    '''\n",
    "    database_size = database_size\n",
    "    shape_list = list()\n",
    "    random.seed()\n",
    "\n",
    "    for _ in range(database_size):\n",
    "        # generate new shapes with random z coordinates until reaching the size of database\n",
    "        shape_indicator = random.randint(1, 3)\n",
    "        if shape_indicator == 1:\n",
    "            new_shape = Circle(random.random())\n",
    "        elif shape_indicator == 2:\n",
    "            new_shape = Square(random.random())\n",
    "        else:\n",
    "            new_shape = Triangle(random.random())\n",
    "        shape_list.append(new_shape)\n",
    "\n",
    "    sorter = SortShapeZOrder()\n",
    "    # sort the list of shapes by their z coordinate\n",
    "    sorter.sort_shape(shape_list)\n",
    "\n",
    "    print('There are {} shapes in the database'.format(database_size))\n",
    "    for shape in shape_list:\n",
    "        # print shapes in the list, one line for each\n",
    "        shape.display()\n",
    "        "
   ]
  },
  {
   "cell_type": "code",
   "execution_count": 7,
   "metadata": {},
   "outputs": [
    {
     "name": "stdout",
     "output_type": "stream",
     "text": [
      "There are 20 shapes in the database\n",
      "I am a triangle with z-value: 0.022292933764159084\n",
      "I am a square with z-value: 0.054190308529938114\n",
      "I am a square with z-value: 0.06572274420198265\n",
      "I am a square with z-value: 0.0786894053965097\n",
      "I am a square with z-value: 0.18123158293591068\n",
      "I am a triangle with z-value: 0.18195434510355202\n",
      "I am a triangle with z-value: 0.22491021399366273\n",
      "I am a circle with z-value: 0.34544826025023345\n",
      "I am a square with z-value: 0.4630733999312616\n",
      "I am a square with z-value: 0.482656794175609\n",
      "I am a triangle with z-value: 0.5374968052925982\n",
      "I am a triangle with z-value: 0.5722367603743052\n",
      "I am a square with z-value: 0.5753928466862981\n",
      "I am a circle with z-value: 0.581332416900062\n",
      "I am a triangle with z-value: 0.802549143486188\n",
      "I am a circle with z-value: 0.9347796206275137\n",
      "I am a circle with z-value: 0.9536118321261138\n",
      "I am a square with z-value: 0.9877462052735696\n",
      "I am a square with z-value: 0.992973318056358\n",
      "I am a triangle with z-value: 0.9942303791041798\n"
     ]
    }
   ],
   "source": [
    "if __name__ == '__main__':\n",
    "    run(20)\n",
    "    "
   ]
  }
 ],
 "metadata": {
  "kernelspec": {
   "display_name": "Python 3",
   "language": "python",
   "name": "python3"
  },
  "language_info": {
   "codemirror_mode": {
    "name": "ipython",
    "version": 3
   },
   "file_extension": ".py",
   "mimetype": "text/x-python",
   "name": "python",
   "nbconvert_exporter": "python",
   "pygments_lexer": "ipython3",
   "version": "3.7.2"
  }
 },
 "nbformat": 4,
 "nbformat_minor": 2
}
